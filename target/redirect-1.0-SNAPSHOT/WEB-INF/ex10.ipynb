{
 "cells": [
  {
   "cell_type": "code",
   "execution_count": null,
   "metadata": {},
   "outputs": [
    {
     "name": "stdout",
     "output_type": "stream",
     "text": [
      "1234\n",
      "A0B1\n",
      "1111\n",
      "A0B0\n"
     ]
    }
   ],
   "source": [
    "a=[str(c) for c in range(10)]\n",
    "import random\n",
    "b=random.sample(a,4)\n",
    "c=input()\n",
    "while c!=\"\".join(b):\n",
    "    A,B=0,0\n",
    "    for i in range(4):\n",
    "        if b[i]==c[i]:\n",
    "            A+=1\n",
    "        elif c[i] in b:\n",
    "            B+=1\n",
    "    print(\"A\",A,\"B\",B,sep=\"\")\n",
    "    c=input()\n",
    "\n",
    "print(\"you are right\")"
   ]
  },
  {
   "cell_type": "code",
   "execution_count": 9,
   "metadata": {},
   "outputs": [],
   "source": [
    "def deal(a,b):\n",
    "    import random\n",
    "    c=[i+n for i in [\"C\",\"D\",\"H\",\"S\"] for n in [\"A\",\"1\",\"2\",\"3\",\"4\",\"5\",\"6\",\"7\",\"8\",\"9\",\"10\",\"J\",\"Q\",\"K\"]]\n",
    "    c=random.sample(c,a*b)\n",
    "    print(c)\n",
    "    card=[]\n",
    "    for i in range(b):\n",
    "        card.append(c[i*a:i*a+a])\n",
    "    return card"
   ]
  },
  {
   "cell_type": "code",
   "execution_count": 22,
   "metadata": {},
   "outputs": [],
   "source": [
    "def dice_roll(a):\n",
    "    import random\n",
    "    c= random.randint(1,8)\n",
    "    if c>6:\n",
    "        c=a\n",
    "    return c"
   ]
  },
  {
   "cell_type": "code",
   "execution_count": 6,
   "metadata": {},
   "outputs": [
    {
     "name": "stdout",
     "output_type": "stream",
     "text": [
      "          population   area    density  \n",
      "California 38332521   423967  90.4139261\n",
      " Florida   19552860   170312  114.806121\n",
      " Illinois  12882135   149995  85.8837628\n",
      " New York  19651127   141297  139.076746\n",
      "  Texas    26448193   695662  38.0187404\n"
     ]
    }
   ],
   "source": [
    "population_dict = {'California': 38332521, 'Texas': 26448193,'New York':19651127,'Florida': 19552860,'Illinois': 12882135}\n",
    "area_dict = {'California': 423967, 'Texas': 695662, 'New York': 141297, 'Florida': 170312,'Illinois': 149995}\n",
    "print(\"{:<10s}{:^10s}{:^10s}{:^10s}\".format(\"\",\"population\",\"area\",\"density\"))\n",
    "for i in sorted(population_dict):\n",
    "    print('{:^10s}{:^10}{:^10}{:^10.9}'.format(i,population_dict[i],area_dict[i],population_dict[i]/area_dict[i]))"
   ]
  }
 ],
 "metadata": {
  "kernelspec": {
   "display_name": "Python 3",
   "language": "python",
   "name": "python3"
  },
  "language_info": {
   "codemirror_mode": {
    "name": "ipython",
    "version": 3
   },
   "file_extension": ".py",
   "mimetype": "text/x-python",
   "name": "python",
   "nbconvert_exporter": "python",
   "pygments_lexer": "ipython3",
   "version": "3.6.5"
  }
 },
 "nbformat": 4,
 "nbformat_minor": 2
}
