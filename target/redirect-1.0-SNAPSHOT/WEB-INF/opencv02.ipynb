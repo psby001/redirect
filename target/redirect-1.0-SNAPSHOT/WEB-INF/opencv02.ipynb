{
 "cells": [
  {
   "cell_type": "code",
   "execution_count": 10,
   "metadata": {},
   "outputs": [],
   "source": [
    "import cv2\n",
    "img=cv2.imread(\"17-hi3rd-02.jpg\")\n",
    "img2=cv2.imread(\"1324189897-2792664886.jpg\")\n",
    "cv2.namedWindow(\"my image2\",cv2.WINDOW_NORMAL)\n",
    "cv2.namedWindow(\"my image\",cv2.WINDOW_AUTOSIZE)\n",
    "#cv2.namedWindow(\"my image\",cv2.WINDOW_FULLSCREEN)\n",
    "while True:\n",
    "    cv2.imshow(\"my image\",img)\n",
    "    cv2.imshow(\"my image2\",img2)\n",
    "    if 0xFF & cv2.waitKey(5)==27:\n",
    "        break\n",
    "cv2.destroyAllWindows()"
   ]
  },
  {
   "cell_type": "code",
   "execution_count": 11,
   "metadata": {},
   "outputs": [],
   "source": [
    "import cv2\n",
    "img=cv2.imread(\"17-hi3rd-02.jpg\")\n",
    "#img2=cv2.imread(\"1324189897-2792664886.jpg\")\n",
    "img2=cv2.cvtColor(img,cv2.COLOR_BGR2GRAY)\n",
    "cv2.namedWindow(\"my image2\",cv2.WINDOW_AUTOSIZE)\n",
    "cv2.namedWindow(\"my image\",cv2.WINDOW_AUTOSIZE)\n",
    "while True:\n",
    "    cv2.imshow(\"my image\",img)\n",
    "    cv2.imshow(\"my image2\",img2)\n",
    "    if 0xFF & cv2.waitKey(5)==27:\n",
    "        break\n",
    "cv2.destroyAllWindows()"
   ]
  },
  {
   "cell_type": "code",
   "execution_count": 12,
   "metadata": {},
   "outputs": [],
   "source": [
    "import cv2\n",
    "img=cv2.imread(\"17-hi3rd-02.jpg\")\n",
    "img2=cv2.cvtColor(img,cv2.COLOR_BGR2GRAY)\n",
    "_,img3=cv2.threshold(img2,127,255,cv2.THRESH_BINARY)\n",
    "_,img4=cv2.threshold(img2,127,255,cv2.THRESH_BINARY_INV)\n",
    "_,img5=cv2.threshold(img2,127,255,cv2.THRESH_TRUNC)\n",
    "#_,img3=cv2.threshold(img2,127,255,cv2.THRESH_TOZERO)\n",
    "#_,img3=cv2.threshold(img2,127,255,cv2.THRESH_TOZERO_INV)\n",
    "cv2.namedWindow(\"my image3\",cv2.WINDOW_AUTOSIZE)\n",
    "cv2.namedWindow(\"my image2\",cv2.WINDOW_AUTOSIZE)\n",
    "cv2.namedWindow(\"my image\",cv2.WINDOW_AUTOSIZE)\n",
    "while True:\n",
    "    cv2.imshow(\"my image\",img3)\n",
    "    cv2.imshow(\"my image2\",img4)\n",
    "    cv2.imshow(\"my image3\",img5)\n",
    "    if 0xFF & cv2.waitKey(5)==27:\n",
    "        break\n",
    "cv2.destroyAllWindows()"
   ]
  },
  {
   "cell_type": "code",
   "execution_count": 14,
   "metadata": {},
   "outputs": [],
   "source": [
    "import cv2\n",
    "cam = cv2.VideoCapture(1)\n",
    "while True:\n",
    "    a,img=cam.read()\n",
    "    img=cv2.cvtColor(img,cv2.COLOR_BGR2GRAY)\n",
    "    _,img=cv2.threshold(img,127,255,cv2.THRESH_BINARY)\n",
    "    cv2.imshow(\"opencv\",img)\n",
    "    if 0xFF & cv2.waitKey(5)==27:\n",
    "        break\n",
    "cv2.destroyAllWindows()"
   ]
  },
  {
   "cell_type": "code",
   "execution_count": null,
   "metadata": {},
   "outputs": [],
   "source": [
    "import cv2\n",
    "import numpy as np\n",
    "img=cv2.imread(\"C:/Users/user/Downloads/aa.png\")\n",
    "img2=cv2.cvtColor(img,cv2.COLOR_BGR2GRAY)\n",
    "_,img3=cv2.threshold(img2,127,255,cv2.THRESH_BINARY)\n",
    "kernel = np.ones((5,5),np.uint8)  \n",
    "erosion = cv2.erode(img3,kernel,iterations = 1)\n",
    "canny = cv2.Canny(img2,100,200)\n",
    "cv2.namedWindow(\"my image5\",cv2.WINDOW_AUTOSIZE)\n",
    "cv2.namedWindow(\"my image4\",cv2.WINDOW_AUTOSIZE)\n",
    "cv2.namedWindow(\"my image3\",cv2.WINDOW_AUTOSIZE)\n",
    "cv2.namedWindow(\"my image2\",cv2.WINDOW_AUTOSIZE)\n",
    "cv2.namedWindow(\"my image1\",cv2.WINDOW_AUTOSIZE)\n",
    "while True:\n",
    "    cv2.imshow(\"my image1\",img)\n",
    "    cv2.imshow(\"my image2\",img2)\n",
    "    cv2.imshow(\"my image3\",img3)\n",
    "    cv2.imshow(\"my image4\",erosion)\n",
    "    cv2.imshow(\"my image5\",canny)\n",
    "    if 0xFF & cv2.waitKey(5)==27:\n",
    "        break\n",
    "cv2.destroyAllWindows()"
   ]
  },
  {
   "cell_type": "code",
   "execution_count": 1,
   "metadata": {},
   "outputs": [
    {
     "name": "stdout",
     "output_type": "stream",
     "text": [
      "((107.34998321533203, 185.45001220703125), (62.613094329833984, 33.83636474609375), -71.56504821777344)\n",
      "((211.78050231933594, 175.97561645507812), (34.04588317871094, 61.84481430053711), -38.65980911254883)\n",
      "((174.4000244140625, 107.30001831054688), (63.0571174621582, 33.09380340576172), -26.56505012512207)\n",
      "((42.5, 107.5), (33.0, 61.0), -0.0)\n",
      "((132.5, 52.5), (61.0, 33.0), -0.0)\n"
     ]
    }
   ],
   "source": [
    "import cv2\n",
    "import numpy as np\n",
    "img=cv2.imread(\"C:/Users/user/Downloads/nuts_bolts1.png\")\n",
    "img2=cv2.cvtColor(img,cv2.COLOR_BGR2GRAY)\n",
    "_,img2=cv2.threshold(img2,200,255,cv2.THRESH_BINARY_INV)\n",
    "cv2.namedWindow(\"image1\",cv2.WINDOW_AUTOSIZE)\n",
    "# rect = cv2.minAreaRect(img2)\n",
    "# box = cv2.cv.BoxPoints(rect) \n",
    "\n",
    "contours, hierarchy = cv2.findContours(img2,cv2.RETR_TREE,cv2.CHAIN_APPROX_SIMPLE)\n",
    "# cv2.rectangle(img, (x, y), (x+w, y+h), (0, 255, 0), 2)\n",
    "for i in contours:\n",
    "    rect = cv2.minAreaRect(i)\n",
    "    if rect[1][0]>40 or rect[1][1]>40:\n",
    "        print(rect)\n",
    "        box = cv2.boxPoints(rect)\n",
    "        box = np.int0(box)\n",
    "        cv2.drawContours(img, [box], 0, (0, 0, 255), 2)\n",
    "#   \n",
    "# rec=cv2.boundingRect(img2)\n",
    "# print(rec)\n",
    "while True:\n",
    "    cv2.imshow(\"image1\",img)\n",
    "    if 0xFF & cv2.waitKey(5)==27:\n",
    "        break\n",
    "cv2.destroyAllWindows()"
   ]
  },
  {
   "cell_type": "code",
   "execution_count": null,
   "metadata": {},
   "outputs": [],
   "source": []
  },
  {
   "cell_type": "code",
   "execution_count": null,
   "metadata": {},
   "outputs": [],
   "source": []
  }
 ],
 "metadata": {
  "kernelspec": {
   "display_name": "Python 3",
   "language": "python",
   "name": "python3"
  },
  "language_info": {
   "codemirror_mode": {
    "name": "ipython",
    "version": 3
   },
   "file_extension": ".py",
   "mimetype": "text/x-python",
   "name": "python",
   "nbconvert_exporter": "python",
   "pygments_lexer": "ipython3",
   "version": "3.6.9"
  }
 },
 "nbformat": 4,
 "nbformat_minor": 2
}
